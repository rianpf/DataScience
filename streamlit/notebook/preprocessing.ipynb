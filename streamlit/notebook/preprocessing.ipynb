{
 "cells": [
  {
   "cell_type": "code",
   "execution_count": 1,
   "metadata": {},
   "outputs": [],
   "source": [
    "import pandas as pd\n",
    "import numpy as np\n",
    "import re\n",
    "import nltk\n",
    "from nltk.stem import WordNetLemmatizer\n",
    "from nltk.tokenize import word_tokenize"
   ]
  },
  {
   "cell_type": "code",
   "execution_count": 2,
   "metadata": {},
   "outputs": [],
   "source": [
    "df = pd.read_csv('lana_lyrics.csv')"
   ]
  },
  {
   "cell_type": "code",
   "execution_count": 3,
   "metadata": {},
   "outputs": [],
   "source": [
    "df.dropna(inplace = True)"
   ]
  },
  {
   "cell_type": "code",
   "execution_count": 4,
   "metadata": {},
   "outputs": [
    {
     "data": {
      "text/plain": [
       "'Text Book Lyrics[Verse 1]\\nI guess you could call it textbook\\nI was lookin\\' for the father I wanted back\\nAnd I thought I found it in Brentwood\\nIt seemed only appropriate you\\'d easily have my back\\n\\n[Pre-Chorus]\\nAnd then there was the issue of her\\nI didn\\'t even like myself, or love the life I had\\nAnd there you were with shining stars\\nStandin\\' blue with open arms\\nYou touched the detriment most of the friends I knew already had\\n\\n[Chorus]\\nYou\\'ve got a Thunderbird, my daddy had one, too\\nLet\\'s rewrite history, I\\'ll do this dance with you\\nYou know I\\'m not that girl, you know I\\'ll never be\\nMaybe just the way we\\'re different could set me free\\nAnd there we were, screamin\\' \"Black Lives Matter\" in the crowd\\nBy the Old Man River, and I saw you saw who I am\\nGod, I wish I was with my father\\nHe could see us in all our splendor\\nAll the things I couldn\\'t want for him\\nI screamed for them, oh-oh-oh\\nI screamed for them, ah-ah\\n[Verse 2]\\nCould we do this dance again?\\nDo you think if I go blonde, we could get our old love back?\\nI guess this is really the end\\nI never felt jealous before this year, but I\\'m jealous now\\n\\n[Pre-Chorus]\\nPeople say we\\'re too much alike\\nBut maybe, finally, that\\'ll make it right\\nIn the end of all these sleepless nights\\nOther men I met felt right\\nWould smile at you and stick a knife\\nIn your back\\nFinally, I met you so I\\'m not wonderin\\' why\\n\\n[Chorus]\\nYou\\'ve got a Thunderbird, my daddy had one, too\\nLet\\'s rewrite history, I\\'ll do this dance with you\\nYou know I\\'m not that girl, you know I\\'ll never be\\nMaybe just the way we\\'re different could set me free\\nThere we were, screamin\\' \"Black Lives Matter\" in the crowd\\nBy the Old Man River, and I saw you saw who I am\\nGod, I wish I was with my father\\nHe could see us in all our splendor\\nAll the things I couldn\\'t want for him\\nI screamed for them, oh-oh-oh\\nI screamed for them, ah-ah\\n[Outro]\\nOld Man River keeps rollin\\'\\nWith or without him\\nOld Man River keeps rollin\\'\\nWithout him, oh, my old man\\nOld Man River keeps rollin\\', oh51Embed'"
      ]
     },
     "execution_count": 4,
     "metadata": {},
     "output_type": "execute_result"
    }
   ],
   "source": [
    "df['lyrics'][0]"
   ]
  },
  {
   "cell_type": "markdown",
   "metadata": {},
   "source": [
    "## Removendo caracteres indesejados"
   ]
  },
  {
   "cell_type": "code",
   "execution_count": 5,
   "metadata": {},
   "outputs": [],
   "source": [
    "def remove_title(text):\n",
    "    text = re.sub(r'^[^\\[]+', '', text)\n",
    "    return text"
   ]
  },
  {
   "cell_type": "code",
   "execution_count": 6,
   "metadata": {},
   "outputs": [],
   "source": [
    "df['lyrics'] = df.lyrics.apply(remove_title)"
   ]
  },
  {
   "cell_type": "code",
   "execution_count": 7,
   "metadata": {},
   "outputs": [],
   "source": [
    "def remove_ponctuation(text):\n",
    "  \n",
    "  text = re.sub(r'[^\\w\\s]', '', text)\n",
    "  return text"
   ]
  },
  {
   "cell_type": "code",
   "execution_count": 8,
   "metadata": {},
   "outputs": [],
   "source": [
    "df['lyrics'] = df.lyrics.apply(remove_ponctuation)"
   ]
  },
  {
   "cell_type": "code",
   "execution_count": 9,
   "metadata": {},
   "outputs": [],
   "source": [
    "def remove_end(text):\n",
    "  \n",
    "  text = re.sub(r'[^\\s]+$', '', text)\n",
    "  return text"
   ]
  },
  {
   "cell_type": "code",
   "execution_count": 10,
   "metadata": {},
   "outputs": [],
   "source": [
    "df['lyrics'] = df.lyrics.apply(remove_end)"
   ]
  },
  {
   "cell_type": "code",
   "execution_count": 11,
   "metadata": {},
   "outputs": [],
   "source": [
    "def remove_linebreak(text):\n",
    "  \n",
    "  text = re.sub(r'\\n', ' ', text)\n",
    "  return text"
   ]
  },
  {
   "cell_type": "code",
   "execution_count": 12,
   "metadata": {},
   "outputs": [],
   "source": [
    "df['lyrics'] = df.lyrics.apply(remove_linebreak)"
   ]
  },
  {
   "cell_type": "code",
   "execution_count": 13,
   "metadata": {},
   "outputs": [],
   "source": [
    "def remove_verse(text):\n",
    "  \n",
    "  text = re.sub(r'Verse\\s\\d{1}\\s', '', text)\n",
    "  text = re.sub(r'PreChorus', '', text)\n",
    "  text = re.sub(r'Chorus', '', text)\n",
    "  text = re.sub(r'Lana', '', text)\n",
    "  text = re.sub(r'Del', '', text)\n",
    "  text = re.sub(r'Rey', '', text)\n",
    "  text = re.sub(r'Ray', '', text)\n",
    "  return text"
   ]
  },
  {
   "cell_type": "code",
   "execution_count": 14,
   "metadata": {},
   "outputs": [],
   "source": [
    "df['lyrics'] = df.lyrics.apply(remove_verse)"
   ]
  },
  {
   "cell_type": "code",
   "execution_count": 15,
   "metadata": {},
   "outputs": [
    {
     "data": {
      "text/plain": [
       "'I guess you could call it textbook I was lookin for the father I wanted back And I thought I found it in Brentwood It seemed only appropriate youd easily have my back   And then there was the issue of her I didnt even like myself or love the life I had And there you were with shining stars Standin blue with open arms You touched the detriment most of the friends I knew already had   Youve got a Thunderbird my daddy had one too Lets rewrite history Ill do this dance with you You know Im not that girl you know Ill never be Maybe just the way were different could set me free And there we were screamin Black Lives Matter in the crowd By the Old Man River and I saw you saw who I am God I wish I was with my father He could see us in all our splendor All the things I couldnt want for him I screamed for them ohohoh I screamed for them ahah Could we do this dance again Do you think if I go blonde we could get our old love back I guess this is really the end I never felt jealous before this year but Im jealous now   People say were too much alike But maybe finally thatll make it right In the end of all these sleepless nights Other men I met felt right Would smile at you and stick a knife In your back Finally I met you so Im not wonderin why   Youve got a Thunderbird my daddy had one too Lets rewrite history Ill do this dance with you You know Im not that girl you know Ill never be Maybe just the way were different could set me free There we were screamin Black Lives Matter in the crowd By the Old Man River and I saw you saw who I am God I wish I was with my father He could see us in all our splendor All the things I couldnt want for him I screamed for them ohohoh I screamed for them ahah Outro Old Man River keeps rollin With or without him Old Man River keeps rollin Without him oh my old man Old Man River keeps rollin '"
      ]
     },
     "execution_count": 15,
     "metadata": {},
     "output_type": "execute_result"
    }
   ],
   "source": [
    "df['lyrics'][0]"
   ]
  },
  {
   "cell_type": "markdown",
   "metadata": {},
   "source": [
    "## Colocando em minúsculo"
   ]
  },
  {
   "cell_type": "code",
   "execution_count": 16,
   "metadata": {},
   "outputs": [],
   "source": [
    "df['lyrics'] = df['lyrics'].str.lower()"
   ]
  },
  {
   "cell_type": "markdown",
   "metadata": {},
   "source": [
    "## Tokenização"
   ]
  },
  {
   "cell_type": "code",
   "execution_count": 17,
   "metadata": {},
   "outputs": [
    {
     "name": "stderr",
     "output_type": "stream",
     "text": [
      "[nltk_data] Downloading package punkt to\n",
      "[nltk_data]     C:\\Users\\rian2\\AppData\\Roaming\\nltk_data...\n",
      "[nltk_data]   Package punkt is already up-to-date!\n"
     ]
    },
    {
     "data": {
      "text/plain": [
       "True"
      ]
     },
     "execution_count": 17,
     "metadata": {},
     "output_type": "execute_result"
    }
   ],
   "source": [
    "nltk.download('punkt')"
   ]
  },
  {
   "cell_type": "code",
   "execution_count": 18,
   "metadata": {},
   "outputs": [],
   "source": [
    "df['lyrics'] = df['lyrics'].apply(word_tokenize) "
   ]
  },
  {
   "cell_type": "markdown",
   "metadata": {},
   "source": [
    "## Removendo as stopwords"
   ]
  },
  {
   "cell_type": "code",
   "execution_count": 19,
   "metadata": {},
   "outputs": [
    {
     "name": "stderr",
     "output_type": "stream",
     "text": [
      "[nltk_data] Downloading package stopwords to\n",
      "[nltk_data]     C:\\Users\\rian2\\AppData\\Roaming\\nltk_data...\n",
      "[nltk_data]   Package stopwords is already up-to-date!\n"
     ]
    },
    {
     "data": {
      "text/plain": [
       "True"
      ]
     },
     "execution_count": 19,
     "metadata": {},
     "output_type": "execute_result"
    }
   ],
   "source": [
    "nltk.download('stopwords')"
   ]
  },
  {
   "cell_type": "code",
   "execution_count": 20,
   "metadata": {},
   "outputs": [],
   "source": [
    "stopwords = nltk.corpus.stopwords.words('english')"
   ]
  },
  {
   "cell_type": "code",
   "execution_count": 21,
   "metadata": {},
   "outputs": [],
   "source": [
    "stopwords = ' '.join(stopwords).replace(\"'\",\"\").split()"
   ]
  },
  {
   "cell_type": "code",
   "execution_count": 22,
   "metadata": {},
   "outputs": [],
   "source": [
    "def remove_stopwords(text):\n",
    "    return [item for item in text if item not in stopwords]"
   ]
  },
  {
   "cell_type": "code",
   "execution_count": 23,
   "metadata": {},
   "outputs": [],
   "source": [
    "df['lyrics'] = df.lyrics.apply(remove_stopwords)"
   ]
  },
  {
   "cell_type": "markdown",
   "metadata": {},
   "source": [
    "## Lemmatização"
   ]
  },
  {
   "cell_type": "code",
   "execution_count": 24,
   "metadata": {},
   "outputs": [],
   "source": [
    "lemmatizer = nltk.stem.WordNetLemmatizer()"
   ]
  },
  {
   "cell_type": "code",
   "execution_count": 25,
   "metadata": {},
   "outputs": [
    {
     "name": "stderr",
     "output_type": "stream",
     "text": [
      "[nltk_data] Downloading package wordnet to\n",
      "[nltk_data]     C:\\Users\\rian2\\AppData\\Roaming\\nltk_data...\n",
      "[nltk_data]   Package wordnet is already up-to-date!\n"
     ]
    },
    {
     "data": {
      "text/plain": [
       "True"
      ]
     },
     "execution_count": 25,
     "metadata": {},
     "output_type": "execute_result"
    }
   ],
   "source": [
    "nltk.download('wordnet')"
   ]
  },
  {
   "cell_type": "code",
   "execution_count": 26,
   "metadata": {},
   "outputs": [],
   "source": [
    "def lemmatize_text(text):\n",
    "    return [lemmatizer.lemmatize(w) for w in text]"
   ]
  },
  {
   "cell_type": "code",
   "execution_count": 27,
   "metadata": {},
   "outputs": [],
   "source": [
    "df['lyrics'] = df.lyrics.apply(lemmatize_text)"
   ]
  },
  {
   "cell_type": "markdown",
   "metadata": {},
   "source": [
    "## Ajustes finais"
   ]
  },
  {
   "cell_type": "code",
   "execution_count": 28,
   "metadata": {},
   "outputs": [],
   "source": [
    "df['lyrics_str'] = np.nan"
   ]
  },
  {
   "cell_type": "code",
   "execution_count": 29,
   "metadata": {},
   "outputs": [],
   "source": [
    "df['lyrics_str'] = df['lyrics'].apply(' '.join)"
   ]
  },
  {
   "cell_type": "code",
   "execution_count": 30,
   "metadata": {},
   "outputs": [
    {
     "data": {
      "text/html": [
       "<div>\n",
       "<style scoped>\n",
       "    .dataframe tbody tr th:only-of-type {\n",
       "        vertical-align: middle;\n",
       "    }\n",
       "\n",
       "    .dataframe tbody tr th {\n",
       "        vertical-align: top;\n",
       "    }\n",
       "\n",
       "    .dataframe thead th {\n",
       "        text-align: right;\n",
       "    }\n",
       "</style>\n",
       "<table border=\"1\" class=\"dataframe\">\n",
       "  <thead>\n",
       "    <tr style=\"text-align: right;\">\n",
       "      <th></th>\n",
       "      <th>album</th>\n",
       "      <th>title</th>\n",
       "      <th>lyrics</th>\n",
       "      <th>lyrics_str</th>\n",
       "    </tr>\n",
       "  </thead>\n",
       "  <tbody>\n",
       "    <tr>\n",
       "      <th>0</th>\n",
       "      <td>Blue Banisters</td>\n",
       "      <td>Text Book</td>\n",
       "      <td>[guess, could, call, textbook, lookin, father,...</td>\n",
       "      <td>guess could call textbook lookin father wanted...</td>\n",
       "    </tr>\n",
       "    <tr>\n",
       "      <th>1</th>\n",
       "      <td>Blue Banisters</td>\n",
       "      <td>Blue Banisters</td>\n",
       "      <td>[there, picture, wall, john, deere, jenny, han...</td>\n",
       "      <td>there picture wall john deere jenny handed bee...</td>\n",
       "    </tr>\n",
       "    <tr>\n",
       "      <th>2</th>\n",
       "      <td>Blue Banisters</td>\n",
       "      <td>Arcadia</td>\n",
       "      <td>[body, map, la, stand, straight, like, angel, ...</td>\n",
       "      <td>body map la stand straight like angel halo han...</td>\n",
       "    </tr>\n",
       "    <tr>\n",
       "      <th>4</th>\n",
       "      <td>Blue Banisters</td>\n",
       "      <td>Black Bathing Suit</td>\n",
       "      <td>[grenadine, quarantine, like, lot, la, hey, zo...</td>\n",
       "      <td>grenadine quarantine like lot la hey zoom targ...</td>\n",
       "    </tr>\n",
       "    <tr>\n",
       "      <th>5</th>\n",
       "      <td>Blue Banisters</td>\n",
       "      <td>If You Lie Down with Me</td>\n",
       "      <td>[put, red, boot, baby, giddy, baby, want, danc...</td>\n",
       "      <td>put red boot baby giddy baby want dance baby g...</td>\n",
       "    </tr>\n",
       "  </tbody>\n",
       "</table>\n",
       "</div>"
      ],
      "text/plain": [
       "            album                    title  \\\n",
       "0  Blue Banisters                Text Book   \n",
       "1  Blue Banisters           Blue Banisters   \n",
       "2  Blue Banisters                  Arcadia   \n",
       "4  Blue Banisters       Black Bathing Suit   \n",
       "5  Blue Banisters  If You Lie Down with Me   \n",
       "\n",
       "                                              lyrics  \\\n",
       "0  [guess, could, call, textbook, lookin, father,...   \n",
       "1  [there, picture, wall, john, deere, jenny, han...   \n",
       "2  [body, map, la, stand, straight, like, angel, ...   \n",
       "4  [grenadine, quarantine, like, lot, la, hey, zo...   \n",
       "5  [put, red, boot, baby, giddy, baby, want, danc...   \n",
       "\n",
       "                                          lyrics_str  \n",
       "0  guess could call textbook lookin father wanted...  \n",
       "1  there picture wall john deere jenny handed bee...  \n",
       "2  body map la stand straight like angel halo han...  \n",
       "4  grenadine quarantine like lot la hey zoom targ...  \n",
       "5  put red boot baby giddy baby want dance baby g...  "
      ]
     },
     "execution_count": 30,
     "metadata": {},
     "output_type": "execute_result"
    }
   ],
   "source": [
    "df.head()"
   ]
  },
  {
   "cell_type": "code",
   "execution_count": 31,
   "metadata": {},
   "outputs": [],
   "source": [
    "df.to_csv('lana_lyrics_clean.csv', index = False)"
   ]
  }
 ],
 "metadata": {
  "interpreter": {
   "hash": "93df1765fba72f2a59ea78662e6a9ce49d43735afd2b86cd68e2a1d75ab55b79"
  },
  "kernelspec": {
   "display_name": "Python 3.9.7 ('base')",
   "language": "python",
   "name": "python3"
  },
  "language_info": {
   "codemirror_mode": {
    "name": "ipython",
    "version": 3
   },
   "file_extension": ".py",
   "mimetype": "text/x-python",
   "name": "python",
   "nbconvert_exporter": "python",
   "pygments_lexer": "ipython3",
   "version": "3.9.7"
  },
  "orig_nbformat": 4
 },
 "nbformat": 4,
 "nbformat_minor": 2
}
