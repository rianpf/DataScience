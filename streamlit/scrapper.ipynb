{
 "cells": [
  {
   "cell_type": "code",
   "execution_count": 1,
   "metadata": {},
   "outputs": [],
   "source": [
    "import pandas as pd\n",
    "import lyricsgenius\n",
    "import os\n",
    "import json"
   ]
  },
  {
   "cell_type": "code",
   "execution_count": 2,
   "metadata": {},
   "outputs": [],
   "source": [
    "token = #coloque aqui o seu token :)\n",
    "genius = lyricsgenius.Genius(token)\n",
    "genius.timeout = 15"
   ]
  },
  {
   "cell_type": "code",
   "execution_count": 3,
   "metadata": {},
   "outputs": [
    {
     "name": "stdout",
     "output_type": "stream",
     "text": [
      "Searching for \"Lana Del Ray\" by Lana Del Rey...\n",
      "Wrote Lyrics_LanaDelRay.json.\n"
     ]
    }
   ],
   "source": [
    "album = genius.search_album(\"Lana Del Ray\", \"Lana Del Rey\")\n",
    "album.save_lyrics()"
   ]
  },
  {
   "cell_type": "code",
   "execution_count": 4,
   "metadata": {},
   "outputs": [
    {
     "name": "stdout",
     "output_type": "stream",
     "text": [
      "Searching for \"Chemtrails over the Country Club\" by Lana Del Rey...\n",
      "Wrote Lyrics_ChemtrailsOvertheCountryClub.json.\n"
     ]
    }
   ],
   "source": [
    "album = genius.search_album(\"Chemtrails over the Country Club\", \"Lana Del Rey\")\n",
    "album.save_lyrics()"
   ]
  },
  {
   "cell_type": "code",
   "execution_count": 5,
   "metadata": {},
   "outputs": [
    {
     "name": "stdout",
     "output_type": "stream",
     "text": [
      "Searching for \"Honeymoon\" by Lana Del Rey...\n",
      "Wrote Lyrics_Honeymoon.json.\n"
     ]
    }
   ],
   "source": [
    "album = genius.search_album(\"Honeymoon\", \"Lana Del Rey\")\n",
    "album.save_lyrics()"
   ]
  },
  {
   "cell_type": "code",
   "execution_count": 6,
   "metadata": {},
   "outputs": [
    {
     "name": "stdout",
     "output_type": "stream",
     "text": [
      "Searching for \"Ultraviolence (Deluxe Edition)\" by Lana Del Rey...\n",
      "Wrote Lyrics_UltraviolenceDeluxeEdition.json.\n"
     ]
    }
   ],
   "source": [
    "album = genius.search_album(\"Ultraviolence (Deluxe Edition)\", \"Lana Del Rey\")\n",
    "album.save_lyrics()"
   ]
  },
  {
   "cell_type": "code",
   "execution_count": 7,
   "metadata": {},
   "outputs": [
    {
     "name": "stdout",
     "output_type": "stream",
     "text": [
      "Searching for \"Born to Die - The Paradise Edition\" by Lana Del Rey...\n",
      "Wrote Lyrics_BorntoDieTheParadiseEdition.json.\n"
     ]
    }
   ],
   "source": [
    "album = genius.search_album(\"Born to Die - The Paradise Edition\", \"Lana Del Rey\")\n",
    "album.save_lyrics()"
   ]
  },
  {
   "cell_type": "code",
   "execution_count": 9,
   "metadata": {},
   "outputs": [
    {
     "name": "stdout",
     "output_type": "stream",
     "text": [
      "Searching for \"Norman Fucking Rockwell!\" by Lana Del Rey...\n",
      "Wrote Lyrics_NormanFuckingRockwell.json.\n"
     ]
    }
   ],
   "source": [
    "album = genius.search_album(\"Norman Fucking Rockwell!\", \"Lana Del Rey\")\n",
    "album.save_lyrics()"
   ]
  },
  {
   "cell_type": "code",
   "execution_count": 10,
   "metadata": {},
   "outputs": [
    {
     "name": "stdout",
     "output_type": "stream",
     "text": [
      "Searching for \"Blue Banisters\" by Lana Del Rey...\n",
      "Wrote Lyrics_BlueBanisters.json.\n"
     ]
    }
   ],
   "source": [
    "album = genius.search_album(\"Blue Banisters\", \"Lana Del Rey\")\n",
    "album.save_lyrics()"
   ]
  },
  {
   "cell_type": "code",
   "execution_count": 11,
   "metadata": {},
   "outputs": [
    {
     "name": "stdout",
     "output_type": "stream",
     "text": [
      "Searching for \"Lust for Life\" by Lana Del Rey...\n",
      "Wrote Lyrics_LustforLife.json.\n"
     ]
    }
   ],
   "source": [
    "album = genius.search_album(\"Lust for Life\", \"Lana Del Rey\")\n",
    "album.save_lyrics()"
   ]
  },
  {
   "cell_type": "code",
   "execution_count": 12,
   "metadata": {},
   "outputs": [],
   "source": [
    "songs = []"
   ]
  },
  {
   "cell_type": "code",
   "execution_count": 13,
   "metadata": {},
   "outputs": [
    {
     "data": {
      "text/plain": [
       "122"
      ]
     },
     "execution_count": 13,
     "metadata": {},
     "output_type": "execute_result"
    }
   ],
   "source": [
    "for filename in os.listdir(os.getcwd()):\n",
    "    if filename[-5:] == '.json':\n",
    "        album = json.load(open(filename))\n",
    "        for song in album['tracks']:\n",
    "            lyrics = song['song']['lyrics']\n",
    "            title = song['song']['title']\n",
    "            album_name = album['name']\n",
    "            songs.append([album_name, title, lyrics])\n",
    "len(songs)"
   ]
  },
  {
   "cell_type": "code",
   "execution_count": 14,
   "metadata": {},
   "outputs": [],
   "source": [
    "lyrics = pd.DataFrame(songs, columns=['album', 'title', 'lyrics'])"
   ]
  },
  {
   "cell_type": "code",
   "execution_count": 15,
   "metadata": {},
   "outputs": [
    {
     "data": {
      "text/html": [
       "<div>\n",
       "<style scoped>\n",
       "    .dataframe tbody tr th:only-of-type {\n",
       "        vertical-align: middle;\n",
       "    }\n",
       "\n",
       "    .dataframe tbody tr th {\n",
       "        vertical-align: top;\n",
       "    }\n",
       "\n",
       "    .dataframe thead th {\n",
       "        text-align: right;\n",
       "    }\n",
       "</style>\n",
       "<table border=\"1\" class=\"dataframe\">\n",
       "  <thead>\n",
       "    <tr style=\"text-align: right;\">\n",
       "      <th></th>\n",
       "      <th>album</th>\n",
       "      <th>title</th>\n",
       "      <th>lyrics</th>\n",
       "    </tr>\n",
       "  </thead>\n",
       "  <tbody>\n",
       "    <tr>\n",
       "      <th>0</th>\n",
       "      <td>Blue Banisters</td>\n",
       "      <td>Text Book</td>\n",
       "      <td>Text Book Lyrics[Verse 1]\\nI guess you could c...</td>\n",
       "    </tr>\n",
       "    <tr>\n",
       "      <th>1</th>\n",
       "      <td>Blue Banisters</td>\n",
       "      <td>Blue Banisters</td>\n",
       "      <td>Blue Banisters Lyrics[Verse 1]\\nThere's a pict...</td>\n",
       "    </tr>\n",
       "    <tr>\n",
       "      <th>2</th>\n",
       "      <td>Blue Banisters</td>\n",
       "      <td>Arcadia</td>\n",
       "      <td>Arcadia Lyrics[Verse 1]\\nMy body is a map of L...</td>\n",
       "    </tr>\n",
       "    <tr>\n",
       "      <th>3</th>\n",
       "      <td>Blue Banisters</td>\n",
       "      <td>Interlude - The Trio</td>\n",
       "      <td></td>\n",
       "    </tr>\n",
       "    <tr>\n",
       "      <th>4</th>\n",
       "      <td>Blue Banisters</td>\n",
       "      <td>Black Bathing Suit</td>\n",
       "      <td>Black Bathing Suit Lyrics[Verse 1]\\nGrenadine ...</td>\n",
       "    </tr>\n",
       "  </tbody>\n",
       "</table>\n",
       "</div>"
      ],
      "text/plain": [
       "            album                 title  \\\n",
       "0  Blue Banisters             Text Book   \n",
       "1  Blue Banisters        Blue Banisters   \n",
       "2  Blue Banisters               Arcadia   \n",
       "3  Blue Banisters  Interlude - The Trio   \n",
       "4  Blue Banisters    Black Bathing Suit   \n",
       "\n",
       "                                              lyrics  \n",
       "0  Text Book Lyrics[Verse 1]\\nI guess you could c...  \n",
       "1  Blue Banisters Lyrics[Verse 1]\\nThere's a pict...  \n",
       "2  Arcadia Lyrics[Verse 1]\\nMy body is a map of L...  \n",
       "3                                                     \n",
       "4  Black Bathing Suit Lyrics[Verse 1]\\nGrenadine ...  "
      ]
     },
     "execution_count": 15,
     "metadata": {},
     "output_type": "execute_result"
    }
   ],
   "source": [
    "lyrics.head()"
   ]
  },
  {
   "cell_type": "code",
   "execution_count": 16,
   "metadata": {},
   "outputs": [],
   "source": [
    "lyrics.drop_duplicates().to_csv('lana_lyrics.csv', index = False)"
   ]
  }
 ],
 "metadata": {
  "interpreter": {
   "hash": "93df1765fba72f2a59ea78662e6a9ce49d43735afd2b86cd68e2a1d75ab55b79"
  },
  "kernelspec": {
   "display_name": "Python 3.9.7 ('base')",
   "language": "python",
   "name": "python3"
  },
  "language_info": {
   "codemirror_mode": {
    "name": "ipython",
    "version": 3
   },
   "file_extension": ".py",
   "mimetype": "text/x-python",
   "name": "python",
   "nbconvert_exporter": "python",
   "pygments_lexer": "ipython3",
   "version": "3.9.7"
  },
  "orig_nbformat": 4
 },
 "nbformat": 4,
 "nbformat_minor": 2
}
