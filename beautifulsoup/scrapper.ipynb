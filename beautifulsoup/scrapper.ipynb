{
 "cells": [
  {
   "cell_type": "code",
   "execution_count": 1,
   "metadata": {},
   "outputs": [],
   "source": [
    "from bs4 import BeautifulSoup\n",
    "import requests\n",
    "import pandas as pd\n",
    "import re"
   ]
  },
  {
   "cell_type": "code",
   "execution_count": 2,
   "metadata": {},
   "outputs": [],
   "source": [
    "def scrapper(seasons, link, season):\n",
    "    for i in seasons:\n",
    "        link_temporada = link+f'?season={i}'\n",
    "\n",
    "        source=requests.get(link_temporada).text\n",
    "        soup=BeautifulSoup(source,'html.parser')\n",
    "\n",
    "        eplist = soup.find_all('div',class_='list detail eplist')[0]\n",
    "        episodios = eplist.find_all('div', class_= ['list_item odd','list_item even'])\n",
    "\n",
    "        for episodio in episodios:\n",
    "\n",
    "            if episodio.find('span',class_='ipl-rating-star__rating') != None:\n",
    "\n",
    "                #pegando os titulos\n",
    "                titulo = episodio.a['title']\n",
    "                titulos.append(titulo)\n",
    "\n",
    "                #pegando as avaliacoes\n",
    "                avaliacao = episodio.find('span',class_='ipl-rating-star__rating').text\n",
    "                avaliacoes.append(avaliacao)\n",
    "\n",
    "                #pegando as sinopses\n",
    "                sinopse = episodio.find('div',class_='item_description').text.strip()\n",
    "                sinopses.append(sinopse)\n",
    "\n",
    "                #pegando a temporada e episodio\n",
    "                ep_temp = episodio.find('div',class_='image').find('a').find('div').find('div').text\n",
    "\n",
    "                temp = ep_temp.split()[0]\n",
    "                ep_number = ep_temp.split()[1]\n",
    "\n",
    "                temporadas.append(temp)\n",
    "                numero_episodios.append(ep_number)\n",
    "\n",
    "                #pegando a franquia\n",
    "                franquias.append(season)"
   ]
  },
  {
   "cell_type": "code",
   "execution_count": 3,
   "metadata": {},
   "outputs": [],
   "source": [
    "titulos = []\n",
    "avaliacoes = []\n",
    "sinopses = []\n",
    "temporadas = []\n",
    "numero_episodios = []\n",
    "franquias = []"
   ]
  },
  {
   "cell_type": "code",
   "execution_count": 4,
   "metadata": {},
   "outputs": [],
   "source": [
    "scrapper(range(1,15),'https://www.imdb.com/title/tt1353056/episodes','Drag Race')\n",
    "scrapper(range(1,15),'https://www.imdb.com/title/tt1588754/episodes','Drag Race Untucked')\n",
    "scrapper(range(1,7),'https://www.imdb.com/title/tt2301351/episodes','All Stars')\n",
    "scrapper(range(1,7),'https://www.imdb.com/title/tt9646834/episodes','All Stars Untucked')\n",
    "scrapper(range(1,4),'https://www.imdb.com/title/tt9780442/episodes','UK')\n",
    "scrapper(range(1,3),'https://www.imdb.com/title/tt11382554/episodes','Canada')\n",
    "scrapper([1],'https://www.imdb.com/title/tt16968320/episodes','UK vs the World')\n",
    "scrapper(range(1,3),'https://www.imdb.com/title/tt13033136/episodes','Holland')\n",
    "scrapper([1],'https://www.imdb.com/title/tt14192040/episodes','Down Under')\n",
    "scrapper([1],'https://www.imdb.com/title/tt11187480/episodes','Celebrity')\n",
    "scrapper(range(1,3),'https://www.imdb.com/title/tt7939808/episodes','Thailand')\n",
    "scrapper([1],'https://www.imdb.com/title/tt15940712/episodes','Italy')\n",
    "scrapper([1],'https://www.imdb.com/title/tt14148898/episodes','España')"
   ]
  },
  {
   "cell_type": "code",
   "execution_count": 5,
   "metadata": {},
   "outputs": [],
   "source": [
    "DADOS = {'Títulos': titulos , 'Nota': avaliacoes , 'Sinopses': sinopses , 'Temporada': temporadas , 'Episódio': numero_episodios, 'Franquia': franquias}"
   ]
  },
  {
   "cell_type": "code",
   "execution_count": 6,
   "metadata": {},
   "outputs": [],
   "source": [
    "df=pd.DataFrame(DADOS)"
   ]
  },
  {
   "cell_type": "code",
   "execution_count": 7,
   "metadata": {},
   "outputs": [
    {
     "data": {
      "text/html": [
       "<div>\n",
       "<style scoped>\n",
       "    .dataframe tbody tr th:only-of-type {\n",
       "        vertical-align: middle;\n",
       "    }\n",
       "\n",
       "    .dataframe tbody tr th {\n",
       "        vertical-align: top;\n",
       "    }\n",
       "\n",
       "    .dataframe thead th {\n",
       "        text-align: right;\n",
       "    }\n",
       "</style>\n",
       "<table border=\"1\" class=\"dataframe\">\n",
       "  <thead>\n",
       "    <tr style=\"text-align: right;\">\n",
       "      <th></th>\n",
       "      <th>Títulos</th>\n",
       "      <th>Nota</th>\n",
       "      <th>Sinopses</th>\n",
       "      <th>Temporada</th>\n",
       "      <th>Episódio</th>\n",
       "      <th>Franquia</th>\n",
       "    </tr>\n",
       "  </thead>\n",
       "  <tbody>\n",
       "    <tr>\n",
       "      <th>0</th>\n",
       "      <td>Drag on a Dime</td>\n",
       "      <td>7.3</td>\n",
       "      <td>Nine contestants must re-invent their glam dra...</td>\n",
       "      <td>S1,</td>\n",
       "      <td>Ep1</td>\n",
       "      <td>Drag Race</td>\n",
       "    </tr>\n",
       "    <tr>\n",
       "      <th>1</th>\n",
       "      <td>Girl Group Challenge</td>\n",
       "      <td>7.5</td>\n",
       "      <td>Wigs fly when the contestants split up into 2 ...</td>\n",
       "      <td>S1,</td>\n",
       "      <td>Ep2</td>\n",
       "      <td>Drag Race</td>\n",
       "    </tr>\n",
       "    <tr>\n",
       "      <th>2</th>\n",
       "      <td>Queens of all Media</td>\n",
       "      <td>7.5</td>\n",
       "      <td>The queens must create an Oprah inspired look ...</td>\n",
       "      <td>S1,</td>\n",
       "      <td>Ep3</td>\n",
       "      <td>Drag Race</td>\n",
       "    </tr>\n",
       "    <tr>\n",
       "      <th>3</th>\n",
       "      <td>M.A.C/Viva Glam Challenge</td>\n",
       "      <td>8.1</td>\n",
       "      <td>With three queens down, RuPaul pairs the racer...</td>\n",
       "      <td>S1,</td>\n",
       "      <td>Ep4</td>\n",
       "      <td>Drag Race</td>\n",
       "    </tr>\n",
       "    <tr>\n",
       "      <th>4</th>\n",
       "      <td>Drag School of Charm</td>\n",
       "      <td>7.6</td>\n",
       "      <td>RuPaul brings in a group of girl fighters to w...</td>\n",
       "      <td>S1,</td>\n",
       "      <td>Ep5</td>\n",
       "      <td>Drag Race</td>\n",
       "    </tr>\n",
       "  </tbody>\n",
       "</table>\n",
       "</div>"
      ],
      "text/plain": [
       "                     Títulos Nota  \\\n",
       "0             Drag on a Dime  7.3   \n",
       "1       Girl Group Challenge  7.5   \n",
       "2        Queens of all Media  7.5   \n",
       "3  M.A.C/Viva Glam Challenge  8.1   \n",
       "4       Drag School of Charm  7.6   \n",
       "\n",
       "                                            Sinopses Temporada Episódio  \\\n",
       "0  Nine contestants must re-invent their glam dra...       S1,      Ep1   \n",
       "1  Wigs fly when the contestants split up into 2 ...       S1,      Ep2   \n",
       "2  The queens must create an Oprah inspired look ...       S1,      Ep3   \n",
       "3  With three queens down, RuPaul pairs the racer...       S1,      Ep4   \n",
       "4  RuPaul brings in a group of girl fighters to w...       S1,      Ep5   \n",
       "\n",
       "    Franquia  \n",
       "0  Drag Race  \n",
       "1  Drag Race  \n",
       "2  Drag Race  \n",
       "3  Drag Race  \n",
       "4  Drag Race  "
      ]
     },
     "execution_count": 7,
     "metadata": {},
     "output_type": "execute_result"
    }
   ],
   "source": [
    "df.head()"
   ]
  },
  {
   "cell_type": "code",
   "execution_count": 8,
   "metadata": {},
   "outputs": [
    {
     "name": "stdout",
     "output_type": "stream",
     "text": [
      "<class 'pandas.core.frame.DataFrame'>\n",
      "RangeIndex: 593 entries, 0 to 592\n",
      "Data columns (total 6 columns):\n",
      " #   Column     Non-Null Count  Dtype \n",
      "---  ------     --------------  ----- \n",
      " 0   Títulos    593 non-null    object\n",
      " 1   Nota       593 non-null    object\n",
      " 2   Sinopses   593 non-null    object\n",
      " 3   Temporada  593 non-null    object\n",
      " 4   Episódio   593 non-null    object\n",
      " 5   Franquia   593 non-null    object\n",
      "dtypes: object(6)\n",
      "memory usage: 27.9+ KB\n"
     ]
    }
   ],
   "source": [
    "df.info()"
   ]
  },
  {
   "cell_type": "code",
   "execution_count": 9,
   "metadata": {},
   "outputs": [],
   "source": [
    "def only_digits(text):\n",
    "  \n",
    "  text = re.sub(r'[^\\d]', '', text)\n",
    "  return text"
   ]
  },
  {
   "cell_type": "code",
   "execution_count": 10,
   "metadata": {},
   "outputs": [],
   "source": [
    "df['Temporada'] = df.Temporada.apply(only_digits)"
   ]
  },
  {
   "cell_type": "code",
   "execution_count": 11,
   "metadata": {},
   "outputs": [],
   "source": [
    "df['Episódio'] = df.Episódio.apply(only_digits)"
   ]
  },
  {
   "cell_type": "code",
   "execution_count": 12,
   "metadata": {},
   "outputs": [],
   "source": [
    "df.to_csv('dragrace.csv', index = False)"
   ]
  }
 ],
 "metadata": {
  "interpreter": {
   "hash": "512d669c5f5e94ecd73ab93bbcd73f1c75a8be01f93700ca8a3a3dda43f98c9f"
  },
  "kernelspec": {
   "display_name": "Python 3.10.2 64-bit (windows store)",
   "language": "python",
   "name": "python3"
  },
  "language_info": {
   "codemirror_mode": {
    "name": "ipython",
    "version": 3
   },
   "file_extension": ".py",
   "mimetype": "text/x-python",
   "name": "python",
   "nbconvert_exporter": "python",
   "pygments_lexer": "ipython3",
   "version": "3.10.2"
  },
  "orig_nbformat": 4
 },
 "nbformat": 4,
 "nbformat_minor": 2
}
